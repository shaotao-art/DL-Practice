{
 "cells": [
  {
   "cell_type": "code",
   "execution_count": 2,
   "metadata": {},
   "outputs": [],
   "source": [
    "import torch\n",
    "from torch import nn\n",
    "from torchvision import datasets"
   ]
  },
  {
   "cell_type": "code",
   "execution_count": 9,
   "metadata": {},
   "outputs": [],
   "source": [
    "from torchvision import transforms\n",
    "\n",
    "\n",
    "class PreProcessor():\n",
    "    def __init__(self):\n",
    "        self.T = transforms.Compose([\n",
    "                transforms.ToTensor(),\n",
    "                transforms.Normalize(mean=[0.5], std=[0.5])\n",
    "            ])\n",
    "\n",
    "    def __call__(self, x):\n",
    "        return self.T(x)\n",
    "\n",
    "    def __str__(self):\n",
    "        return str(self.T)"
   ]
  },
  {
   "cell_type": "code",
   "execution_count": 10,
   "metadata": {},
   "outputs": [
    {
     "name": "stdout",
     "output_type": "stream",
     "text": [
      "Compose(\n",
      "    ToTensor()\n",
      "    Normalize(mean=[0.5], std=[0.5])\n",
      ")\n"
     ]
    }
   ],
   "source": [
    "obj = PreProcessor()\n",
    "print(obj)"
   ]
  },
  {
   "cell_type": "code",
   "execution_count": 31,
   "metadata": {},
   "outputs": [],
   "source": [
    "class NNet(nn.Module):\n",
    "    def __init__(self) -> None:\n",
    "        super(NNet, self).__init__()\n",
    "        self.linear = nn.Linear(10, 100)\n",
    "    def forward(self, x):\n",
    "        return self.linear(x)\n",
    "\n",
    "    def _init_params(self):\n",
    "        pass\n",
    "\n",
    "    def __str__(self) -> str:\n",
    "        num_params = sum(p.numel() for p in self.parameters() if p.requires_grad == True)\n",
    "        return f'\\nModel\\n\\tnum params: {num_params}\\n'"
   ]
  },
  {
   "cell_type": "code",
   "execution_count": 32,
   "metadata": {},
   "outputs": [
    {
     "name": "stdout",
     "output_type": "stream",
     "text": [
      "\n",
      "Model\n",
      "\tnum params: 1100\n",
      "\n"
     ]
    }
   ],
   "source": [
    "obj = NNet()\n",
    "print(obj)"
   ]
  },
  {
   "cell_type": "code",
   "execution_count": 23,
   "metadata": {},
   "outputs": [],
   "source": [
    "class Configer:\n",
    "    def __init__(self) -> None:\n",
    "        self.params = {\n",
    "            'device': 'cuda' if torch.cuda.is_available() else 'cpu',\n",
    "            'num_epoch': 100,\n",
    "            'l_r': 1e-4,\n",
    "            'b_s': 64\n",
    "        }    \n",
    "\n",
    "    def __str__(self) -> str:\n",
    "        params = self.params.items()\n",
    "        out = ''\n",
    "        out += '\\nTraining Configs\\n'\n",
    "        for k, v in params:\n",
    "            out += f\"\\t{k}:  {v}\\n\"\n",
    "        out +='\\n'\n",
    "        return out"
   ]
  },
  {
   "cell_type": "code",
   "execution_count": 24,
   "metadata": {},
   "outputs": [
    {
     "name": "stdout",
     "output_type": "stream",
     "text": [
      "\n",
      "Training Configs\n",
      "\tdevice:  cuda\n",
      "\tnum_epoch:  100\n",
      "\tl_r:  0.0001\n",
      "\tb_s:  64\n",
      "\n",
      "\n"
     ]
    }
   ],
   "source": [
    "obj = Configer()\n",
    "print(obj)"
   ]
  },
  {
   "cell_type": "code",
   "execution_count": null,
   "metadata": {},
   "outputs": [],
   "source": []
  }
 ],
 "metadata": {
  "kernelspec": {
   "display_name": "Python 3.9.12 ('dl')",
   "language": "python",
   "name": "python3"
  },
  "language_info": {
   "codemirror_mode": {
    "name": "ipython",
    "version": 3
   },
   "file_extension": ".py",
   "mimetype": "text/x-python",
   "name": "python",
   "nbconvert_exporter": "python",
   "pygments_lexer": "ipython3",
   "version": "3.9.12"
  },
  "orig_nbformat": 4,
  "vscode": {
   "interpreter": {
    "hash": "b29e1734725db1faeb4b8d5e1c0f2aeef17f9af1ed7138203a137e006bcde4ae"
   }
  }
 },
 "nbformat": 4,
 "nbformat_minor": 2
}
